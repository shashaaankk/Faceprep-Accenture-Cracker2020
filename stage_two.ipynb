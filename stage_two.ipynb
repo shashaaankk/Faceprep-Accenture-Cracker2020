{
 "cells": [
  {
   "cell_type": "markdown",
   "metadata": {},
   "source": [
    "# Non repeating elements\n",
    "Write a program to eliminate the common elements in the given 2 arrays and print only the non repeating elements and the total.\n",
    "\n",
    "Sample Input:\n",
    "\n",
    "5 4\n",
    "\n",
    "1 2 8 6 5\n",
    "\n",
    "2 6 8 10\n",
    "\n",
    "Sample Output:\n",
    "\n",
    "1 5 10\n",
    "\n",
    "3\n",
    "\n"
   ]
  },
  {
   "cell_type": "code",
   "execution_count": null,
   "metadata": {},
   "outputs": [],
   "source": [
    "def common_nums(n_list,m_list):\n",
    "  count=0\n",
    "  for n_num in n_list:\n",
    "      if n_num not in m_list:\n",
    "          count+=1\n",
    "          print(n_num,end=\" \")\n",
    "  for m_num in m_list:\n",
    "      if m_num not in n_list:\n",
    "          count+=1\n",
    "          print(m_num,end=\" \")\n",
    "  print()\n",
    "  print(count)\n",
    "\n",
    "\n",
    "n,m=map(int,input().split())\n",
    "n_list=list(map(int,input().rstrip().split()))\n",
    "m_list=list(map(int,input().rstrip().split()))        \n",
    "common_nums(n_list,m_list)"
   ]
  },
  {
   "cell_type": "markdown",
   "metadata": {},
   "source": [
    "# Search an element\n",
    "Write a program to search an element in an array and print its index value. If the element is not present, then print -1.\n",
    "\n",
    "Sample Input:\n",
    "\n",
    "5\n",
    "\n",
    "4 6 7 2 8\n",
    "\n",
    "7\n",
    "\n",
    "Sample Output:\n",
    "\n",
    "index = 2\n",
    "\n"
   ]
  },
  {
   "cell_type": "code",
   "execution_count": null,
   "metadata": {},
   "outputs": [],
   "source": [
    "def num_index(numlist,what_num):\n",
    "  if what_num not in numlist:\n",
    "       print(\"-1\")\n",
    "  else:\n",
    "      for i in range(len(numlist)):\n",
    "          if numlist[i]==what_num:\n",
    "             print(\"index =\",i)\n",
    "\n",
    "\n",
    "n=int(input())\n",
    "numlist=list(map(int,input().rstrip().split()))\n",
    "what_num=int(input())\n",
    "num_index(numlist,what_num)\n",
    "             "
   ]
  },
  {
   "cell_type": "markdown",
   "metadata": {},
   "source": [
    "# Decimal to Binary equivalent\n",
    "Write a program to convert decimal number to binary equivalent number.\n",
    "\n",
    "Sample Input:\n",
    "\n",
    "10\n",
    "\n",
    "Sample Output:\n",
    "\n",
    "1010\n",
    "\n"
   ]
  },
  {
   "cell_type": "code",
   "execution_count": null,
   "metadata": {},
   "outputs": [],
   "source": [
    "def decimal_binary(num):\n",
    "    res=[]\n",
    "    while(num>=1):\n",
    "          b=num%2\n",
    "          res.append(b)\n",
    "          num=int(num/2)\n",
    "    for i in reversed(range(len(res))):\n",
    "         print(res[i],end=\"\")\n",
    "n=int(input())\n",
    "decimal_binary(n)"
   ]
  },
  {
   "cell_type": "markdown",
   "metadata": {},
   "source": [
    "# Binary to decimal equivalent\n",
    "Write a program to convert a binary number to an equivalent decimal value.\n",
    "\n",
    "Sample Input:\n",
    "\n",
    "1010\n",
    "\n",
    "Sample Output:\n",
    "\n",
    "10\n",
    "\n"
   ]
  },
  {
   "cell_type": "code",
   "execution_count": null,
   "metadata": {},
   "outputs": [],
   "source": [
    "def binary_decimal(num):\n",
    "    eq=0\n",
    "    for i in range(len(num)):\n",
    "        x=(len(num)-1)-i\n",
    "        eq+=int(num[i])*(2**x)\n",
    "    print(eq)\n",
    "    \n",
    "n=input()\n",
    "binary_decimal(n)"
   ]
  },
  {
   "cell_type": "markdown",
   "metadata": {},
   "source": [
    "# sum of numbers divisible by both 3 and 5\n",
    "You are required to implement the following function:\n",
    "\n",
    "Int Calculate(int m, int n);\n",
    "\n",
    "The function accepts 2 positive integer ‘m’ and ‘n’ as its arguments.You are required to calculate the sum of numbers divisible both by 3 and 5, between ‘m’ and ‘n’ both inclusive and return the same.\n",
    "\n",
    "Note:\n",
    "\n",
    "0 < m <= n\n",
    "\n",
    "Example\n",
    "\n",
    "Input:\n",
    "\n",
    "m : 12\n",
    "\n",
    "n : 50\n",
    "\n",
    "Output\n",
    "\n",
    "90"
   ]
  },
  {
   "cell_type": "code",
   "execution_count": null,
   "metadata": {},
   "outputs": [],
   "source": [
    "def calculate(n,m):\n",
    "    tot=0\n",
    "    for num in range(n,m+1):\n",
    "      if num%3==0 and num%5==0:\n",
    "        tot+=num\n",
    "    print(tot)\n",
    "  \n",
    "n=int(input())\n",
    "m=int(input())\n",
    "calculate(n,m)"
   ]
  },
  {
   "cell_type": "markdown",
   "metadata": {},
   "source": [
    "# Insert an element\n",
    "Write a program to create a dynamic array and insert an element in it, in the specified position.\n",
    "\n",
    "Input Format\n",
    "\n",
    "First line consists of integer value N\n",
    "\n",
    "Second line consists of an array elements\n",
    "\n",
    "Third line consists of integer value as position and value\n",
    "\n",
    "Output Format\n",
    "\n",
    "Output consists of an array element\n",
    "\n",
    "Refer the sample output for formatting\n",
    "\n",
    "Sample Input:\n",
    "\n",
    "5\n",
    "\n"
   ]
  },
  {
   "cell_type": "code",
   "execution_count": null,
   "metadata": {},
   "outputs": [],
   "source": [
    "def insert_element(arr,pos,val):\n",
    "  arr.insert(pos-1,val)\n",
    "  for _ in range(len(arr)):\n",
    "      print(arr[_],end=\" \")\n",
    "  \n",
    "n=int(input())\n",
    "arr=list(map(int,input().rstrip().split()))\n",
    "pos,val=map(int,input().split())\n",
    "insert_element(arr,pos,val)"
   ]
  }
 ],
 "metadata": {
  "kernelspec": {
   "display_name": "Python 3",
   "language": "python",
   "name": "python3"
  },
  "language_info": {
   "codemirror_mode": {
    "name": "ipython",
    "version": 3
   },
   "file_extension": ".py",
   "mimetype": "text/x-python",
   "name": "python",
   "nbconvert_exporter": "python",
   "pygments_lexer": "ipython3",
   "version": "3.9.0"
  }
 },
 "nbformat": 4,
 "nbformat_minor": 2
}
